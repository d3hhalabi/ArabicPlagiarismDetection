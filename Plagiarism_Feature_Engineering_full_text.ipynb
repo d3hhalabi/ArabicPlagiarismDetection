{
 "cells": [
  {
   "cell_type": "code",
   "execution_count": 1,
   "id": "6f417efa",
   "metadata": {},
   "outputs": [],
   "source": [
    "# import libraries\n",
    "import pandas as pd\n",
    "import numpy as np\n",
    "import os\n",
    "\n",
    "from sklearn.feature_extraction.text import CountVectorizer\n",
    "\n",
    "import helper_Arabic\n",
    "\n",
    "from datetime import datetime"
   ]
  },
  {
   "cell_type": "code",
   "execution_count": 2,
   "id": "1779f478",
   "metadata": {},
   "outputs": [],
   "source": [
    "# Read in a csv file and return a transformed dataframe\n",
    "def numerical_dataframe(csv_file):    \n",
    "    df = pd.read_csv(csv_file, index_col=0)\n",
    "    \n",
    "    df['Class'] = df['plagiarism_types'].map({'no-plagiarism':0,\n",
    "                                      'artificial-obfuscation':1,\n",
    "                                      'no-obfuscation':1,\n",
    "                                      'simulated-obfuscation':1})\n",
    "    \n",
    "    df['category'] = df['plagiarism_types']\n",
    "    \n",
    "    df['category'] = df['category'].map({'no-plagiarism':0,\n",
    "                                      'artificial-obfuscation':1,\n",
    "                                      'no-obfuscation':2,\n",
    "                                      'simulated-obfuscation':3})\n",
    "    \n",
    "    return df"
   ]
  },
  {
   "cell_type": "code",
   "execution_count": 3,
   "id": "df13284a",
   "metadata": {},
   "outputs": [],
   "source": [
    "# Calculate the ngram containment for one answer file/source file pair in a df\n",
    "def calculate_containment(n, suspicious_text, source_text):    \n",
    "    #count the n-grams\n",
    "    counts = CountVectorizer(analyzer='word', ngram_range=(n,n))\n",
    "    ngrams_array = counts.fit_transform([suspicious_text, source_text]).toarray()\n",
    "    \n",
    "    #containment calculation\n",
    "    containment = (np.minimum(ngrams_array[0],ngrams_array[1]).sum())/(ngrams_array[0].sum())\n",
    "    \n",
    "    return containment"
   ]
  },
  {
   "cell_type": "code",
   "execution_count": 4,
   "id": "2b282684",
   "metadata": {},
   "outputs": [],
   "source": [
    "# Compute the normalized LCS given an suspicious text and a source text\n",
    "def lcs_norm_word(suspicious_text, source_text):\n",
    "    '''Computes the longest common subsequence of words in two texts; returns a normalized value.\n",
    "       :param suspicious_text: The pre-processed text for an answer text\n",
    "       :param source_text: The pre-processed text for an answer's associated source text\n",
    "       :return: A normalized LCS value'''\n",
    "    \n",
    "    #split the strings into words using split() and whitespace as a separator\n",
    "    suspicious_words = suspicious_text.split()\n",
    "    source_words = source_text.split()\n",
    "    \n",
    "    #getting the word counts\n",
    "    suspicious_w_counts = len(suspicious_words)\n",
    "    source_w_counts = len(source_words)\n",
    "    \n",
    "    #instantiating a matrix adding extra row and column of zeros\n",
    "    lcs_matrix = np.zeros((source_w_counts + 1, suspicious_w_counts + 1), dtype=int)\n",
    "    \n",
    "    #fillling up the matrix based on matches\n",
    "    for s, s_word in enumerate(source_words, 1):\n",
    "        for a, a_word in enumerate(suspicious_words, 1):\n",
    "            if s_word == a_word:\n",
    "                lcs_matrix[s][a] = lcs_matrix[s-1][a-1] + 1\n",
    "            else:\n",
    "                lcs_matrix[s][a] = max(lcs_matrix[s-1][a], lcs_matrix[s][a-1])\n",
    "    \n",
    "    lcs = lcs_matrix[source_w_counts][suspicious_w_counts]        \n",
    "        \n",
    "    return lcs/suspicious_w_counts"
   ]
  },
  {
   "cell_type": "code",
   "execution_count": 5,
   "id": "b9d3c486",
   "metadata": {},
   "outputs": [],
   "source": [
    "def len_text(text):\n",
    "    str_text = str(text)\n",
    "    len_text = len(str_text)\n",
    "    \n",
    "    return len_text"
   ]
  },
  {
   "cell_type": "code",
   "execution_count": 6,
   "id": "203e6b50",
   "metadata": {},
   "outputs": [],
   "source": [
    "def num_words(text):\n",
    "    return len(text.split())"
   ]
  },
  {
   "cell_type": "code",
   "execution_count": 7,
   "id": "5845cbc7",
   "metadata": {},
   "outputs": [],
   "source": [
    "def df_preprocess(df):\n",
    "    \n",
    "    col_name = 'suspicious_file_text'\n",
    "    df = helper_Arabic.complete_preprocess(df, col_name)\n",
    "\n",
    "    col_name = 'source_file_text'\n",
    "    df = helper_Arabic.complete_preprocess(df, col_name)\n",
    "    \n",
    "    df['len_suspicious_text'] = df['suspicious_file_text'].apply(lambda x: len_text(x))\n",
    "    df['len_source_text'] = df['source_file_text'].apply(lambda x: len_text(x))\n",
    "    df['num_words_suspicious_text'] = df['suspicious_file_text'].apply(lambda x: num_words(x))\n",
    "    df['num_words_source_text'] = df['source_file_text'].apply(lambda x: num_words(x))\n",
    "    \n",
    "    return df"
   ]
  },
  {
   "cell_type": "code",
   "execution_count": 8,
   "id": "0b1161c6",
   "metadata": {},
   "outputs": [],
   "source": [
    "def perform_task(df):\n",
    "    \n",
    "    df_temp = df.copy()\n",
    "    df_temp.reset_index(drop=True, inplace=True)\n",
    "\n",
    "    n_grams = range(1,8)\n",
    "\n",
    "    containment_values = []\n",
    "    lcs_values = []\n",
    "    col_names = []\n",
    "\n",
    "    for n_gram in n_grams:\n",
    "        col_name = 'c_' + str(n_gram)\n",
    "        col_names.append(col_name)\n",
    "\n",
    "    col_names.append('lcs_value')\n",
    "\n",
    "    df_features = pd.DataFrame(columns = col_names)\n",
    "\n",
    "    for row_i in df_temp.index:\n",
    "        suspicious_text = df_temp.iloc[row_i]['suspicious_file_text']\n",
    "        source_text = df_temp.iloc[row_i]['source_file_text']\n",
    "            \n",
    "        features_values = []\n",
    "\n",
    "        for n_gram in n_grams:\n",
    "            containment_value = calculate_containment(n_gram, suspicious_text, source_text)\n",
    "            features_values.append(containment_value)\n",
    "\n",
    "        lcs_value = lcs_norm_word(suspicious_text, source_text)\n",
    "        features_values.append(lcs_value)\n",
    "        df_x = pd.DataFrame([features_values], columns = col_names)\n",
    "\n",
    "        df_features = df_features.append(df_x, ignore_index = True)\n",
    "        \n",
    "    return df_features"
   ]
  },
  {
   "cell_type": "code",
   "execution_count": 9,
   "id": "a6a7456f",
   "metadata": {},
   "outputs": [],
   "source": [
    "def make_csv(x, y, file_name, file_dir):\n",
    "    \n",
    "    # in this concatenation the first column will be my labels, the remaining columns are features\n",
    "    pd.concat([pd.DataFrame(y), pd.DataFrame(x)], axis=1).to_csv(os.path.join(file_dir, file_name), header=False, index=False)\n",
    "\n",
    "    print('file created')"
   ]
  },
  {
   "cell_type": "code",
   "execution_count": 11,
   "id": "7b418965",
   "metadata": {},
   "outputs": [
    {
     "name": "stdout",
     "output_type": "stream",
     "text": [
      "\n",
      "Training ====== Start Time = 13:26:46\n",
      "\n",
      "Training ====== End Time = 13:31:22\n"
     ]
    }
   ],
   "source": [
    "now = datetime.now()\n",
    "\n",
    "current_time = now.strftime(\"%H:%M:%S\")\n",
    "print(\"\\nTraining ====== Start Time =\", current_time)\n",
    "# train dataset\n",
    "csv_file_train = 'data2/train-complete-text-pair-sentences.csv'\n",
    "\n",
    "df_transformed_train = numerical_dataframe(csv_file_train)\n",
    "df_transformed_train.drop(columns='obfuscation_types', axis=1, inplace=True)\n",
    "\n",
    "df_transformed_train = df_preprocess(df_transformed_train)\n",
    "\n",
    "now = datetime.now()\n",
    "\n",
    "current_time = now.strftime(\"%H:%M:%S\")\n",
    "print(\"\\nTraining ====== End Time =\", current_time)"
   ]
  },
  {
   "cell_type": "code",
   "execution_count": 12,
   "id": "279a3ef8",
   "metadata": {},
   "outputs": [
    {
     "data": {
      "text/html": [
       "<div>\n",
       "<style scoped>\n",
       "    .dataframe tbody tr th:only-of-type {\n",
       "        vertical-align: middle;\n",
       "    }\n",
       "\n",
       "    .dataframe tbody tr th {\n",
       "        vertical-align: top;\n",
       "    }\n",
       "\n",
       "    .dataframe thead th {\n",
       "        text-align: right;\n",
       "    }\n",
       "</style>\n",
       "<table border=\"1\" class=\"dataframe\">\n",
       "  <thead>\n",
       "    <tr style=\"text-align: right;\">\n",
       "      <th></th>\n",
       "      <th>suspicious_reference</th>\n",
       "      <th>suspicious_offset</th>\n",
       "      <th>suspicious_lengths</th>\n",
       "      <th>source_references</th>\n",
       "      <th>source_offsets</th>\n",
       "      <th>source_lengths</th>\n",
       "      <th>plagiarism_types</th>\n",
       "      <th>suspicious_file_text</th>\n",
       "      <th>source_file_text</th>\n",
       "      <th>suspicious_text</th>\n",
       "      <th>source_text</th>\n",
       "      <th>Class</th>\n",
       "      <th>category</th>\n",
       "      <th>len_suspicious_text</th>\n",
       "      <th>len_source_text</th>\n",
       "      <th>num_words_suspicious_text</th>\n",
       "      <th>num_words_source_text</th>\n",
       "    </tr>\n",
       "  </thead>\n",
       "  <tbody>\n",
       "    <tr>\n",
       "      <th>0</th>\n",
       "      <td>suspicious-document0170.txt</td>\n",
       "      <td>1120</td>\n",
       "      <td>198</td>\n",
       "      <td>source-document00054.txt</td>\n",
       "      <td>1150</td>\n",
       "      <td>198</td>\n",
       "      <td>no-obfuscation</td>\n",
       "      <td>صطف سبع علم علم فكر سلم رءد رود نهض سلم حدث ول...</td>\n",
       "      <td>عمر سحه عرض فرس وجه عقد امر جند كوف منح رقم جن...</td>\n",
       "      <td>فلا تفضح أمرنا أيها السراج - جلال الدين الرومي...</td>\n",
       "      <td>فلا تفضح أمرنا أيها السراج - جلال الدين الرومي...</td>\n",
       "      <td>1</td>\n",
       "      <td>2</td>\n",
       "      <td>1978</td>\n",
       "      <td>13453</td>\n",
       "      <td>484</td>\n",
       "      <td>3262</td>\n",
       "    </tr>\n",
       "    <tr>\n",
       "      <th>1</th>\n",
       "      <td>suspicious-document0171.txt</td>\n",
       "      <td>4081</td>\n",
       "      <td>1086</td>\n",
       "      <td>source-document00042.txt</td>\n",
       "      <td>4590</td>\n",
       "      <td>1086</td>\n",
       "      <td>no-obfuscation</td>\n",
       "      <td>عرف علم كبر ساذ حمد شكر رحم اله كثر ثلث سنه سه...</td>\n",
       "      <td>عبر موسيقار رحل حمد عبد وهب رءد غنء مصر وطن عر...</td>\n",
       "      <td>وفي عام 32 كان عبد الوهاب قد نضج واشتهر في كل ...</td>\n",
       "      <td>وفي عام 32 كان عبد الوهاب قد نضج واشتهر في كل ...</td>\n",
       "      <td>1</td>\n",
       "      <td>2</td>\n",
       "      <td>8879</td>\n",
       "      <td>3643</td>\n",
       "      <td>2164</td>\n",
       "      <td>879</td>\n",
       "    </tr>\n",
       "    <tr>\n",
       "      <th>2</th>\n",
       "      <td>suspicious-document0172.txt</td>\n",
       "      <td>4058</td>\n",
       "      <td>138</td>\n",
       "      <td>source-document00066.txt</td>\n",
       "      <td>11529</td>\n",
       "      <td>138</td>\n",
       "      <td>no-obfuscation</td>\n",
       "      <td>رحل فنن خلف قطن عبد اله قصر يغب سحه شكل كوت رء...</td>\n",
       "      <td>عمل حيه رفق احا قسو احا اخر اقس قست الي رفق رج...</td>\n",
       "      <td>لا أعرف لها اسما, أو مدرسة, أو اسم قرية, ولكنن...</td>\n",
       "      <td>لا أعرف لها اسما, أو مدرسة, أو اسم قرية, ولكنن...</td>\n",
       "      <td>1</td>\n",
       "      <td>2</td>\n",
       "      <td>3353</td>\n",
       "      <td>7770</td>\n",
       "      <td>818</td>\n",
       "      <td>1869</td>\n",
       "    </tr>\n",
       "  </tbody>\n",
       "</table>\n",
       "</div>"
      ],
      "text/plain": [
       "          suspicious_reference  suspicious_offset  suspicious_lengths  \\\n",
       "0  suspicious-document0170.txt               1120                 198   \n",
       "1  suspicious-document0171.txt               4081                1086   \n",
       "2  suspicious-document0172.txt               4058                 138   \n",
       "\n",
       "          source_references  source_offsets  source_lengths plagiarism_types  \\\n",
       "0  source-document00054.txt            1150             198   no-obfuscation   \n",
       "1  source-document00042.txt            4590            1086   no-obfuscation   \n",
       "2  source-document00066.txt           11529             138   no-obfuscation   \n",
       "\n",
       "                                suspicious_file_text  \\\n",
       "0  صطف سبع علم علم فكر سلم رءد رود نهض سلم حدث ول...   \n",
       "1  عرف علم كبر ساذ حمد شكر رحم اله كثر ثلث سنه سه...   \n",
       "2  رحل فنن خلف قطن عبد اله قصر يغب سحه شكل كوت رء...   \n",
       "\n",
       "                                    source_file_text  \\\n",
       "0  عمر سحه عرض فرس وجه عقد امر جند كوف منح رقم جن...   \n",
       "1  عبر موسيقار رحل حمد عبد وهب رءد غنء مصر وطن عر...   \n",
       "2  عمل حيه رفق احا قسو احا اخر اقس قست الي رفق رج...   \n",
       "\n",
       "                                     suspicious_text  \\\n",
       "0  فلا تفضح أمرنا أيها السراج - جلال الدين الرومي...   \n",
       "1  وفي عام 32 كان عبد الوهاب قد نضج واشتهر في كل ...   \n",
       "2  لا أعرف لها اسما, أو مدرسة, أو اسم قرية, ولكنن...   \n",
       "\n",
       "                                         source_text  Class  category  \\\n",
       "0  فلا تفضح أمرنا أيها السراج - جلال الدين الرومي...      1         2   \n",
       "1  وفي عام 32 كان عبد الوهاب قد نضج واشتهر في كل ...      1         2   \n",
       "2  لا أعرف لها اسما, أو مدرسة, أو اسم قرية, ولكنن...      1         2   \n",
       "\n",
       "   len_suspicious_text  len_source_text  num_words_suspicious_text  \\\n",
       "0                 1978            13453                        484   \n",
       "1                 8879             3643                       2164   \n",
       "2                 3353             7770                        818   \n",
       "\n",
       "   num_words_source_text  \n",
       "0                   3262  \n",
       "1                    879  \n",
       "2                   1869  "
      ]
     },
     "execution_count": 12,
     "metadata": {},
     "output_type": "execute_result"
    }
   ],
   "source": [
    "df_transformed_train.head(3)"
   ]
  },
  {
   "cell_type": "code",
   "execution_count": 13,
   "id": "7d6a6eb6",
   "metadata": {},
   "outputs": [
    {
     "data": {
      "text/html": [
       "<div>\n",
       "<style scoped>\n",
       "    .dataframe tbody tr th:only-of-type {\n",
       "        vertical-align: middle;\n",
       "    }\n",
       "\n",
       "    .dataframe tbody tr th {\n",
       "        vertical-align: top;\n",
       "    }\n",
       "\n",
       "    .dataframe thead th {\n",
       "        text-align: right;\n",
       "    }\n",
       "</style>\n",
       "<table border=\"1\" class=\"dataframe\">\n",
       "  <thead>\n",
       "    <tr style=\"text-align: right;\">\n",
       "      <th></th>\n",
       "      <th>plagiarism_types</th>\n",
       "      <th>Counts</th>\n",
       "    </tr>\n",
       "  </thead>\n",
       "  <tbody>\n",
       "    <tr>\n",
       "      <th>0</th>\n",
       "      <td>artificial-obfuscation</td>\n",
       "      <td>838</td>\n",
       "    </tr>\n",
       "    <tr>\n",
       "      <th>1</th>\n",
       "      <td>no-obfuscation</td>\n",
       "      <td>696</td>\n",
       "    </tr>\n",
       "    <tr>\n",
       "      <th>2</th>\n",
       "      <td>no-plagiarism</td>\n",
       "      <td>169</td>\n",
       "    </tr>\n",
       "    <tr>\n",
       "      <th>3</th>\n",
       "      <td>simulated-obfuscation</td>\n",
       "      <td>191</td>\n",
       "    </tr>\n",
       "  </tbody>\n",
       "</table>\n",
       "</div>"
      ],
      "text/plain": [
       "         plagiarism_types  Counts\n",
       "0  artificial-obfuscation     838\n",
       "1          no-obfuscation     696\n",
       "2           no-plagiarism     169\n",
       "3   simulated-obfuscation     191"
      ]
     },
     "metadata": {},
     "output_type": "display_data"
    }
   ],
   "source": [
    "counts_per_plagiarism_type = df_transformed_train.groupby(['plagiarism_types']).size().reset_index(name=\"Counts\")\n",
    "display(counts_per_plagiarism_type)"
   ]
  },
  {
   "cell_type": "code",
   "execution_count": 14,
   "id": "70361b76",
   "metadata": {},
   "outputs": [
    {
     "name": "stdout",
     "output_type": "stream",
     "text": [
      "(838, 17)\n"
     ]
    }
   ],
   "source": [
    "df_features_train_artificial_obfuscation = df_transformed_train.copy()\n",
    "df_features_train_artificial_obfuscation = df_features_train_artificial_obfuscation[df_features_train_artificial_obfuscation['plagiarism_types']=='artificial-obfuscation']\n",
    "print(df_features_train_artificial_obfuscation.shape)"
   ]
  },
  {
   "cell_type": "code",
   "execution_count": 15,
   "id": "78ff0659",
   "metadata": {},
   "outputs": [
    {
     "name": "stdout",
     "output_type": "stream",
     "text": [
      "(696, 17)\n"
     ]
    }
   ],
   "source": [
    "df_features_train_no_obfuscation = df_transformed_train.copy()\n",
    "df_features_train_no_obfuscation = df_features_train_no_obfuscation[df_features_train_no_obfuscation['plagiarism_types']=='no-obfuscation']\n",
    "print(df_features_train_no_obfuscation.shape)"
   ]
  },
  {
   "cell_type": "code",
   "execution_count": 16,
   "id": "614ba7f5",
   "metadata": {},
   "outputs": [
    {
     "name": "stdout",
     "output_type": "stream",
     "text": [
      "(191, 17)\n"
     ]
    }
   ],
   "source": [
    "df_features_train_simulated_obfuscation = df_transformed_train.copy()\n",
    "df_features_train_simulated_obfuscation = df_features_train_simulated_obfuscation[df_features_train_simulated_obfuscation['plagiarism_types']=='simulated-obfuscation']\n",
    "print(df_features_train_simulated_obfuscation.shape)"
   ]
  },
  {
   "cell_type": "code",
   "execution_count": 18,
   "id": "cd090727",
   "metadata": {},
   "outputs": [
    {
     "name": "stdout",
     "output_type": "stream",
     "text": [
      "(169, 17)\n"
     ]
    }
   ],
   "source": [
    "df_features_train_no_plagiarism\t = df_transformed_train.copy()\n",
    "df_features_train_no_plagiarism = df_features_train_no_plagiarism[df_features_train_no_plagiarism['plagiarism_types']=='no-plagiarism']\n",
    "print(df_features_train_no_plagiarism.shape)"
   ]
  },
  {
   "cell_type": "code",
   "execution_count": 19,
   "id": "e1337829",
   "metadata": {},
   "outputs": [
    {
     "name": "stdout",
     "output_type": "stream",
     "text": [
      "\n",
      "Training _no_plagiarism ====== Start Time = 13:40:23\n",
      "\n",
      "Training _no_plagiarism ====== End Time = 13:43:34\n"
     ]
    }
   ],
   "source": [
    "now = datetime.now()\n",
    "\n",
    "current_time = now.strftime(\"%H:%M:%S\")\n",
    "print(\"\\nTraining _no_plagiarism ====== Start Time =\", current_time)\n",
    "\n",
    "df_features_train_no_plagiarism = perform_task(df_features_train_no_plagiarism)\n",
    "\n",
    "now = datetime.now()\n",
    "\n",
    "current_time = now.strftime(\"%H:%M:%S\")\n",
    "print(\"\\nTraining _no_plagiarism ====== End Time =\", current_time)"
   ]
  },
  {
   "cell_type": "code",
   "execution_count": 20,
   "id": "9343c9f6",
   "metadata": {},
   "outputs": [
    {
     "name": "stdout",
     "output_type": "stream",
     "text": [
      "\n",
      "Training simulated_obfuscation ====== Start Time = 13:46:11\n",
      "\n",
      "Training simulated_obfuscation ====== End Time = 14:07:00\n"
     ]
    }
   ],
   "source": [
    "now = datetime.now()\n",
    "\n",
    "current_time = now.strftime(\"%H:%M:%S\")\n",
    "print(\"\\nTraining simulated_obfuscation ====== Start Time =\", current_time)\n",
    "\n",
    "df_features_train_simulated_obfuscation = perform_task(df_features_train_simulated_obfuscation)\n",
    "\n",
    "now = datetime.now()\n",
    "\n",
    "current_time = now.strftime(\"%H:%M:%S\")\n",
    "print(\"\\nTraining simulated_obfuscation ====== End Time =\", current_time)"
   ]
  },
  {
   "cell_type": "code",
   "execution_count": 21,
   "id": "c19a102c",
   "metadata": {},
   "outputs": [
    {
     "name": "stdout",
     "output_type": "stream",
     "text": [
      "\n",
      "Training no_obfuscation ====== Start Time = 14:10:36\n",
      "\n",
      "Training no_obfuscation ====== End Time = 20:54:00\n"
     ]
    }
   ],
   "source": [
    "now = datetime.now()\n",
    "\n",
    "current_time = now.strftime(\"%H:%M:%S\")\n",
    "print(\"\\nTraining no_obfuscation ====== Start Time =\", current_time)\n",
    "\n",
    "df_features_train_no_obfuscation = perform_task(df_features_train_no_obfuscation)\n",
    "\n",
    "now = datetime.now()\n",
    "\n",
    "current_time = now.strftime(\"%H:%M:%S\")\n",
    "print(\"\\nTraining no_obfuscation ====== End Time =\", current_time)"
   ]
  },
  {
   "cell_type": "code",
   "execution_count": 22,
   "id": "70b89db7",
   "metadata": {},
   "outputs": [
    {
     "name": "stdout",
     "output_type": "stream",
     "text": [
      "\n",
      "Training artificial_obfuscation ====== Start Time = 20:54:00\n",
      "\n",
      "Training artificial_obfuscation ====== End Time = 00:32:46\n"
     ]
    }
   ],
   "source": [
    "now = datetime.now()\n",
    "\n",
    "current_time = now.strftime(\"%H:%M:%S\")\n",
    "print(\"\\nTraining artificial_obfuscation ====== Start Time =\", current_time)\n",
    "\n",
    "df_features_train_artificial_obfuscation = perform_task(df_features_train_artificial_obfuscation)\n",
    "\n",
    "now = datetime.now()\n",
    "\n",
    "current_time = now.strftime(\"%H:%M:%S\")\n",
    "print(\"\\nTraining artificial_obfuscation ====== End Time =\", current_time)"
   ]
  },
  {
   "cell_type": "code",
   "execution_count": 23,
   "id": "5ae6408f",
   "metadata": {},
   "outputs": [],
   "source": [
    "df_features_train = pd.concat([df_features_train_artificial_obfuscation, df_features_train_no_obfuscation, df_features_train_simulated_obfuscation, df_features_train_no_plagiarism], axis=0)"
   ]
  },
  {
   "cell_type": "code",
   "execution_count": 24,
   "id": "96bf5f88",
   "metadata": {},
   "outputs": [
    {
     "data": {
      "text/html": [
       "<div>\n",
       "<style scoped>\n",
       "    .dataframe tbody tr th:only-of-type {\n",
       "        vertical-align: middle;\n",
       "    }\n",
       "\n",
       "    .dataframe tbody tr th {\n",
       "        vertical-align: top;\n",
       "    }\n",
       "\n",
       "    .dataframe thead th {\n",
       "        text-align: right;\n",
       "    }\n",
       "</style>\n",
       "<table border=\"1\" class=\"dataframe\">\n",
       "  <thead>\n",
       "    <tr style=\"text-align: right;\">\n",
       "      <th></th>\n",
       "      <th>c_1</th>\n",
       "      <th>c_2</th>\n",
       "      <th>c_3</th>\n",
       "      <th>c_4</th>\n",
       "      <th>c_5</th>\n",
       "      <th>c_6</th>\n",
       "      <th>c_7</th>\n",
       "      <th>lcs_value</th>\n",
       "    </tr>\n",
       "  </thead>\n",
       "  <tbody>\n",
       "    <tr>\n",
       "      <th>0</th>\n",
       "      <td>0.399149</td>\n",
       "      <td>0.015198</td>\n",
       "      <td>0.000000</td>\n",
       "      <td>0.000000</td>\n",
       "      <td>0.0</td>\n",
       "      <td>0.0</td>\n",
       "      <td>0.0</td>\n",
       "      <td>0.093560</td>\n",
       "    </tr>\n",
       "    <tr>\n",
       "      <th>1</th>\n",
       "      <td>0.437956</td>\n",
       "      <td>0.018265</td>\n",
       "      <td>0.000914</td>\n",
       "      <td>0.000000</td>\n",
       "      <td>0.0</td>\n",
       "      <td>0.0</td>\n",
       "      <td>0.0</td>\n",
       "      <td>0.099453</td>\n",
       "    </tr>\n",
       "    <tr>\n",
       "      <th>2</th>\n",
       "      <td>0.343234</td>\n",
       "      <td>0.056291</td>\n",
       "      <td>0.009967</td>\n",
       "      <td>0.003333</td>\n",
       "      <td>0.0</td>\n",
       "      <td>0.0</td>\n",
       "      <td>0.0</td>\n",
       "      <td>0.161716</td>\n",
       "    </tr>\n",
       "    <tr>\n",
       "      <th>3</th>\n",
       "      <td>0.235294</td>\n",
       "      <td>0.016393</td>\n",
       "      <td>0.000000</td>\n",
       "      <td>0.000000</td>\n",
       "      <td>0.0</td>\n",
       "      <td>0.0</td>\n",
       "      <td>0.0</td>\n",
       "      <td>0.084967</td>\n",
       "    </tr>\n",
       "    <tr>\n",
       "      <th>4</th>\n",
       "      <td>0.514151</td>\n",
       "      <td>0.004739</td>\n",
       "      <td>0.000000</td>\n",
       "      <td>0.000000</td>\n",
       "      <td>0.0</td>\n",
       "      <td>0.0</td>\n",
       "      <td>0.0</td>\n",
       "      <td>0.084906</td>\n",
       "    </tr>\n",
       "  </tbody>\n",
       "</table>\n",
       "</div>"
      ],
      "text/plain": [
       "        c_1       c_2       c_3       c_4  c_5  c_6  c_7  lcs_value\n",
       "0  0.399149  0.015198  0.000000  0.000000  0.0  0.0  0.0   0.093560\n",
       "1  0.437956  0.018265  0.000914  0.000000  0.0  0.0  0.0   0.099453\n",
       "2  0.343234  0.056291  0.009967  0.003333  0.0  0.0  0.0   0.161716\n",
       "3  0.235294  0.016393  0.000000  0.000000  0.0  0.0  0.0   0.084967\n",
       "4  0.514151  0.004739  0.000000  0.000000  0.0  0.0  0.0   0.084906"
      ]
     },
     "execution_count": 24,
     "metadata": {},
     "output_type": "execute_result"
    }
   ],
   "source": [
    "df_features_train.head()"
   ]
  },
  {
   "cell_type": "code",
   "execution_count": 25,
   "id": "5b77cfeb",
   "metadata": {},
   "outputs": [
    {
     "name": "stdout",
     "output_type": "stream",
     "text": [
      "file created\n"
     ]
    }
   ],
   "source": [
    "selected_features = ['c_1', 'c_2', 'c_7', 'lcs_value']\n",
    "\n",
    "train_x = df_features_train[selected_features].values\n",
    "train_y = df_transformed_train['Class'].values\n",
    "\n",
    "file_name_train = 'train.csv'\n",
    "file_dir_train = 'data2/'\n",
    "\n",
    "make_csv(train_x, train_y, file_name_train, file_dir_train)"
   ]
  },
  {
   "cell_type": "code",
   "execution_count": 26,
   "id": "cb09941b",
   "metadata": {},
   "outputs": [
    {
     "name": "stdout",
     "output_type": "stream",
     "text": [
      "file created\n"
     ]
    }
   ],
   "source": [
    "train_x = df_features_train.values\n",
    "train_y = df_transformed_train['Class'].values\n",
    "\n",
    "file_name_train = 'train_all.csv'\n",
    "file_dir_train = 'data2/'\n",
    "\n",
    "make_csv(train_x, train_y, file_name_train, file_dir_train)"
   ]
  },
  {
   "cell_type": "code",
   "execution_count": 27,
   "id": "2b99f9b9",
   "metadata": {},
   "outputs": [
    {
     "name": "stdout",
     "output_type": "stream",
     "text": [
      "file created\n"
     ]
    }
   ],
   "source": [
    "selected_features = ['c_1', 'c_2', 'c_7', 'lcs_value']\n",
    "\n",
    "train_x = df_features_train[selected_features].values\n",
    "train_y = df_transformed_train['category'].values\n",
    "\n",
    "file_name_train = 'train_multi_class.csv'\n",
    "file_dir_train = 'data2/'\n",
    "\n",
    "make_csv(train_x, train_y, file_name_train, file_dir_train)"
   ]
  },
  {
   "cell_type": "code",
   "execution_count": 28,
   "id": "fafd72e0",
   "metadata": {},
   "outputs": [
    {
     "name": "stdout",
     "output_type": "stream",
     "text": [
      "\n",
      "Testing df_preprocess ====== Start Time = 00:32:49\n",
      "\n",
      "Testing df_preprocess ====== End Time = 00:32:49\n"
     ]
    }
   ],
   "source": [
    "now = datetime.now()\n",
    "\n",
    "current_time = now.strftime(\"%H:%M:%S\")\n",
    "print(\"\\nTesting df_preprocess ====== Start Time =\", current_time)\n",
    "\n",
    "# test dataset\n",
    "csv_file_test = 'data2/test-complete-text-pair-sentences.csv'\n",
    "\n",
    "df_transformed_test = numerical_dataframe(csv_file_test)\n",
    "df_transformed_test.drop(columns='obfuscation_types', axis=1, inplace=True)\n",
    "\n",
    "df_transformed_test = df_preprocess(df_transformed_test)\n",
    "\n",
    "current_time = now.strftime(\"%H:%M:%S\")\n",
    "print(\"\\nTesting df_preprocess ====== End Time =\", current_time)"
   ]
  },
  {
   "cell_type": "code",
   "execution_count": 29,
   "id": "76a0a436",
   "metadata": {},
   "outputs": [
    {
     "name": "stdout",
     "output_type": "stream",
     "text": [
      "(840, 17)\n"
     ]
    }
   ],
   "source": [
    "df_features_test_artificial_obfuscation = df_transformed_test.copy()\n",
    "df_features_test_artificial_obfuscation = df_features_test_artificial_obfuscation[df_features_test_artificial_obfuscation['plagiarism_types']=='artificial-obfuscation']\n",
    "print(df_features_test_artificial_obfuscation.shape)"
   ]
  },
  {
   "cell_type": "code",
   "execution_count": 30,
   "id": "53e34212",
   "metadata": {},
   "outputs": [
    {
     "name": "stdout",
     "output_type": "stream",
     "text": [
      "(696, 17)\n"
     ]
    }
   ],
   "source": [
    "df_features_test_no_obfuscation = df_transformed_test.copy()\n",
    "df_features_test_no_obfuscation = df_features_test_no_obfuscation[df_features_test_no_obfuscation['plagiarism_types']=='no-obfuscation']\n",
    "print(df_features_test_no_obfuscation.shape)"
   ]
  },
  {
   "cell_type": "code",
   "execution_count": 31,
   "id": "fe699563",
   "metadata": {},
   "outputs": [
    {
     "name": "stdout",
     "output_type": "stream",
     "text": [
      "(191, 17)\n"
     ]
    }
   ],
   "source": [
    "df_features_test_simulated_obfuscation = df_transformed_test.copy()\n",
    "df_features_test_simulated_obfuscation = df_features_test_simulated_obfuscation[df_features_test_simulated_obfuscation['plagiarism_types']=='simulated-obfuscation']\n",
    "print(df_features_test_simulated_obfuscation.shape)"
   ]
  },
  {
   "cell_type": "code",
   "execution_count": 32,
   "id": "c93bdb57",
   "metadata": {},
   "outputs": [
    {
     "name": "stdout",
     "output_type": "stream",
     "text": [
      "(169, 17)\n"
     ]
    }
   ],
   "source": [
    "df_features_test_no_plagiarism\t = df_transformed_test.copy()\n",
    "df_features_test_no_plagiarism = df_features_test_no_plagiarism[df_features_test_no_plagiarism['plagiarism_types']=='no-plagiarism']\n",
    "print(df_features_test_no_plagiarism.shape)"
   ]
  },
  {
   "cell_type": "code",
   "execution_count": 33,
   "id": "5980d533",
   "metadata": {},
   "outputs": [
    {
     "name": "stdout",
     "output_type": "stream",
     "text": [
      "\n",
      "testing _no_plagiarism ====== Start Time = 00:37:01\n",
      "\n",
      "testing _no_plagiarism ====== End Time = 00:42:13\n"
     ]
    }
   ],
   "source": [
    "now = datetime.now()\n",
    "\n",
    "current_time = now.strftime(\"%H:%M:%S\")\n",
    "print(\"\\ntesting _no_plagiarism ====== Start Time =\", current_time)\n",
    "\n",
    "df_features_test_no_plagiarism = perform_task(df_features_test_no_plagiarism)\n",
    "\n",
    "now = datetime.now()\n",
    "\n",
    "current_time = now.strftime(\"%H:%M:%S\")\n",
    "print(\"\\ntesting _no_plagiarism ====== End Time =\", current_time)"
   ]
  },
  {
   "cell_type": "code",
   "execution_count": 34,
   "id": "40d79a3e",
   "metadata": {},
   "outputs": [
    {
     "name": "stdout",
     "output_type": "stream",
     "text": [
      "\n",
      "testing simulated_obfuscation ====== Start Time = 00:42:13\n",
      "\n",
      "testing simulated_obfuscation ====== End Time = 00:58:59\n"
     ]
    }
   ],
   "source": [
    "now = datetime.now()\n",
    "\n",
    "current_time = now.strftime(\"%H:%M:%S\")\n",
    "print(\"\\ntesting simulated_obfuscation ====== Start Time =\", current_time)\n",
    "\n",
    "df_features_test_simulated_obfuscation = perform_task(df_features_test_simulated_obfuscation)\n",
    "\n",
    "now = datetime.now()\n",
    "\n",
    "current_time = now.strftime(\"%H:%M:%S\")\n",
    "print(\"\\ntesting simulated_obfuscation ====== End Time =\", current_time)"
   ]
  },
  {
   "cell_type": "code",
   "execution_count": 35,
   "id": "be179b07",
   "metadata": {},
   "outputs": [
    {
     "name": "stdout",
     "output_type": "stream",
     "text": [
      "\n",
      "testing no_obfuscation ====== Start Time = 00:58:59\n",
      "\n",
      "testing no_obfuscation ====== End Time = 05:45:01\n"
     ]
    }
   ],
   "source": [
    "now = datetime.now()\n",
    "\n",
    "current_time = now.strftime(\"%H:%M:%S\")\n",
    "print(\"\\ntesting no_obfuscation ====== Start Time =\", current_time)\n",
    "\n",
    "df_features_test_no_obfuscation = perform_task(df_features_test_no_obfuscation)\n",
    "\n",
    "now = datetime.now()\n",
    "\n",
    "current_time = now.strftime(\"%H:%M:%S\")\n",
    "print(\"\\ntesting no_obfuscation ====== End Time =\", current_time)"
   ]
  },
  {
   "cell_type": "code",
   "execution_count": 36,
   "id": "acb0d046",
   "metadata": {},
   "outputs": [
    {
     "name": "stdout",
     "output_type": "stream",
     "text": [
      "\n",
      "testing artificial_obfuscation ====== Start Time = 05:45:01\n",
      "\n",
      "testing artificial_obfuscation ====== End Time = 10:03:55\n"
     ]
    }
   ],
   "source": [
    "now = datetime.now()\n",
    "\n",
    "current_time = now.strftime(\"%H:%M:%S\")\n",
    "print(\"\\ntesting artificial_obfuscation ====== Start Time =\", current_time)\n",
    "\n",
    "df_features_test_artificial_obfuscation = perform_task(df_features_test_artificial_obfuscation)\n",
    "\n",
    "now = datetime.now()\n",
    "\n",
    "current_time = now.strftime(\"%H:%M:%S\")\n",
    "print(\"\\ntesting artificial_obfuscation ====== End Time =\", current_time)"
   ]
  },
  {
   "cell_type": "code",
   "execution_count": 51,
   "id": "251ecac7",
   "metadata": {},
   "outputs": [],
   "source": [
    "df_features_test = pd.concat([df_features_test_artificial_obfuscation, df_features_test_no_obfuscation, df_features_test_simulated_obfuscation, df_features_test_no_plagiarism], axis=0)"
   ]
  },
  {
   "cell_type": "code",
   "execution_count": 52,
   "id": "387e2dce",
   "metadata": {},
   "outputs": [
    {
     "data": {
      "text/plain": [
       "(1896, 8)"
      ]
     },
     "execution_count": 52,
     "metadata": {},
     "output_type": "execute_result"
    }
   ],
   "source": [
    "df_features_test.shape"
   ]
  },
  {
   "cell_type": "code",
   "execution_count": 65,
   "id": "dfc077f4",
   "metadata": {},
   "outputs": [
    {
     "name": "stdout",
     "output_type": "stream",
     "text": [
      "file created\n"
     ]
    }
   ],
   "source": [
    "selected_features = ['c_1', 'c_2', 'c_7', 'lcs_value']\n",
    "\n",
    "test_x = df_features_test[selected_features].values\n",
    "test_y = df_transformed_test['Class'].values\n",
    "\n",
    "file_name_test = 'test.csv'\n",
    "file_dir_test = 'data2/'\n",
    "\n",
    "make_csv(test_x, test_y, file_name_test, file_dir_test)"
   ]
  },
  {
   "cell_type": "code",
   "execution_count": 66,
   "id": "ca2529c2",
   "metadata": {},
   "outputs": [
    {
     "data": {
      "text/plain": [
       "(1896, 4)"
      ]
     },
     "execution_count": 66,
     "metadata": {},
     "output_type": "execute_result"
    }
   ],
   "source": [
    "test_x.shape"
   ]
  },
  {
   "cell_type": "code",
   "execution_count": 67,
   "id": "0b4dd029",
   "metadata": {},
   "outputs": [
    {
     "name": "stdout",
     "output_type": "stream",
     "text": [
      "file created\n"
     ]
    }
   ],
   "source": [
    "test_x = df_features_test.values\n",
    "test_y = df_transformed_test['Class'].values\n",
    "\n",
    "file_name_test = 'test_all.csv'\n",
    "file_dir_test = 'data2/'\n",
    "\n",
    "make_csv(test_x, test_y, file_name_test, file_dir_test)"
   ]
  },
  {
   "cell_type": "code",
   "execution_count": 68,
   "id": "9f521ea3",
   "metadata": {},
   "outputs": [
    {
     "name": "stdout",
     "output_type": "stream",
     "text": [
      "file created\n"
     ]
    }
   ],
   "source": [
    "elected_features = ['c_1', 'c_2', 'c_7', 'lcs_value']\n",
    "\n",
    "test_x = df_features_test[selected_features].values\n",
    "test_y = df_transformed_test['category'].values\n",
    "\n",
    "file_name_test = 'test_multi_class.csv'\n",
    "file_dir_test = 'data2/'\n",
    "\n",
    "make_csv(test_x, test_y, file_name_test, file_dir_test)"
   ]
  },
  {
   "cell_type": "code",
   "execution_count": null,
   "id": "960b5b53",
   "metadata": {},
   "outputs": [],
   "source": []
  }
 ],
 "metadata": {
  "kernelspec": {
   "display_name": "Python 3",
   "language": "python",
   "name": "python3"
  },
  "language_info": {
   "codemirror_mode": {
    "name": "ipython",
    "version": 3
   },
   "file_extension": ".py",
   "mimetype": "text/x-python",
   "name": "python",
   "nbconvert_exporter": "python",
   "pygments_lexer": "ipython3",
   "version": "3.8.8"
  }
 },
 "nbformat": 4,
 "nbformat_minor": 5
}
