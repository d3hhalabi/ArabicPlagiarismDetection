{
 "cells": [
  {
   "cell_type": "code",
   "execution_count": null,
   "id": "cf63d58a",
   "metadata": {},
   "outputs": [],
   "source": [
    "#!pip install joblib"
   ]
  },
  {
   "cell_type": "code",
   "execution_count": 1,
   "id": "67b4a770",
   "metadata": {},
   "outputs": [],
   "source": [
    "import os\n",
    "import pandas as pd\n",
    "import numpy as np\n",
    "\n",
    "import matplotlib.pyplot as plt\n",
    "\n",
    "from sklearn.svm import SVC\n",
    "\n",
    "import joblib\n",
    "\n",
    "from sklearn.metrics import classification_report"
   ]
  },
  {
   "cell_type": "code",
   "execution_count": 2,
   "id": "3321c09e",
   "metadata": {},
   "outputs": [],
   "source": [
    "# Read in csv training dataset\n",
    "training_dir = 'data2/'\n",
    "training_file = 'train_multi_class.csv'\n",
    "\n",
    "df_train = pd.read_csv(os.path.join(training_dir, training_file), header=None, names=None)"
   ]
  },
  {
   "cell_type": "code",
   "execution_count": 3,
   "id": "a354954a",
   "metadata": {},
   "outputs": [
    {
     "data": {
      "text/plain": [
       "(1894, 5)"
      ]
     },
     "execution_count": 3,
     "metadata": {},
     "output_type": "execute_result"
    }
   ],
   "source": [
    "df_train.shape"
   ]
  },
  {
   "cell_type": "code",
   "execution_count": 4,
   "id": "ac950a1c",
   "metadata": {},
   "outputs": [],
   "source": [
    "# Labels are in the first column\n",
    "train_y = df_train.iloc[:,0]\n",
    "train_x = df_train.iloc[:,1:]"
   ]
  },
  {
   "cell_type": "code",
   "execution_count": 5,
   "id": "a5296ba3",
   "metadata": {},
   "outputs": [],
   "source": [
    "C = 1.0 # SVM regularization parameter\n",
    "svc = SVC(kernel='linear', C=1, gamma='auto').fit(train_x, train_y)"
   ]
  },
  {
   "cell_type": "code",
   "execution_count": 6,
   "id": "fc8a0a3b",
   "metadata": {},
   "outputs": [],
   "source": [
    "# Read in csv testing dataset\n",
    "testing_dir = 'data2/'\n",
    "testing_file = 'test_multi_class.csv'\n",
    "\n",
    "df_test = pd.read_csv(os.path.join(testing_dir, testing_file), header=None, names=None)\n",
    "\n",
    "# Labels are in the first column\n",
    "test_y = df_test.iloc[:,0]\n",
    "test_x = df_test.iloc[:,1:]"
   ]
  },
  {
   "cell_type": "code",
   "execution_count": 7,
   "id": "fbd5904b",
   "metadata": {},
   "outputs": [
    {
     "data": {
      "text/plain": [
       "(1896, 5)"
      ]
     },
     "execution_count": 7,
     "metadata": {},
     "output_type": "execute_result"
    }
   ],
   "source": [
    "df_test.shape"
   ]
  },
  {
   "cell_type": "code",
   "execution_count": 8,
   "id": "6bac4e39",
   "metadata": {},
   "outputs": [],
   "source": [
    "predited_y = svc.predict(test_x)"
   ]
  },
  {
   "cell_type": "code",
   "execution_count": 9,
   "id": "cc71e168",
   "metadata": {},
   "outputs": [],
   "source": [
    "target_names = ['no-plagiarism', 'artificial-obfuscation', 'no-obfuscation', 'simulated-obfuscation']"
   ]
  },
  {
   "cell_type": "code",
   "execution_count": 24,
   "id": "dbc81597",
   "metadata": {},
   "outputs": [
    {
     "data": {
      "text/plain": [
       "(1896,)"
      ]
     },
     "execution_count": 24,
     "metadata": {},
     "output_type": "execute_result"
    }
   ],
   "source": [
    "predited_y.shape"
   ]
  },
  {
   "cell_type": "code",
   "execution_count": 10,
   "id": "dd6feb34",
   "metadata": {},
   "outputs": [
    {
     "name": "stdout",
     "output_type": "stream",
     "text": [
      "                        precision    recall  f1-score   support\n",
      "\n",
      "         no-plagiarism       0.44      0.25      0.32       169\n",
      "artificial-obfuscation       0.48      0.44      0.46       840\n",
      "        no-obfuscation       0.32      0.48      0.39       696\n",
      " simulated-obfuscation       0.00      0.00      0.00       191\n",
      "\n",
      "              accuracy                           0.39      1896\n",
      "             macro avg       0.31      0.29      0.29      1896\n",
      "          weighted avg       0.37      0.39      0.37      1896\n",
      "\n"
     ]
    }
   ],
   "source": [
    "print(classification_report(test_y, predited_y, target_names=target_names))"
   ]
  },
  {
   "cell_type": "code",
   "execution_count": 12,
   "id": "e75408ee",
   "metadata": {},
   "outputs": [],
   "source": [
    "from sklearn.metrics import accuracy_score\n",
    "from sklearn.metrics import precision_score\n",
    "from sklearn.metrics import recall_score\n",
    "from sklearn.metrics import f1_score\n",
    "from sklearn.metrics import cohen_kappa_score\n",
    "from sklearn.metrics import roc_auc_score\n",
    "from sklearn.metrics import confusion_matrix"
   ]
  },
  {
   "cell_type": "code",
   "execution_count": 13,
   "id": "e9b47647",
   "metadata": {},
   "outputs": [
    {
     "name": "stdout",
     "output_type": "stream",
     "text": [
      "Accuracy: 39.293249\n"
     ]
    }
   ],
   "source": [
    "# accuracy: (tp + tn) / (p + n)\n",
    "accuracy = accuracy_score(test_y, predited_y)\n",
    "print('Accuracy: %f' % (accuracy*100))"
   ]
  },
  {
   "cell_type": "code",
   "execution_count": 21,
   "id": "085e2b09",
   "metadata": {},
   "outputs": [
    {
     "name": "stdout",
     "output_type": "stream",
     "text": [
      "Accuracy: 39.293249\n",
      "Precision: 37.170876\n",
      "Recall: 39.293249\n",
      "F1 score: 37.389316\n"
     ]
    }
   ],
   "source": [
    "# average='binary'. Please choose another average setting, one of [None, 'micro', 'macro', 'weighted'].\n",
    "\n",
    "# accuracy: (tp + tn) / (p + n)\n",
    "accuracy = accuracy_score(test_y, predited_y)\n",
    "print('Accuracy: %f' % (accuracy*100))\n",
    "# precision tp / (tp + fp)\n",
    "precision = precision_score(test_y, predited_y, average='weighted')\n",
    "print('Precision: %f' % (precision*100))\n",
    "# recall: tp / (tp + fn)\n",
    "recall = recall_score(test_y, predited_y, average='weighted')\n",
    "print('Recall: %f' % (recall*100))\n",
    "# f1: 2 tp / (2 tp + fp + fn)\n",
    "f1 = f1_score(test_y, predited_y, average='weighted')\n",
    "print('F1 score: %f' % (f1*100))"
   ]
  },
  {
   "cell_type": "code",
   "execution_count": null,
   "id": "fd68b883",
   "metadata": {},
   "outputs": [],
   "source": []
  }
 ],
 "metadata": {
  "kernelspec": {
   "display_name": "Python 3",
   "language": "python",
   "name": "python3"
  },
  "language_info": {
   "codemirror_mode": {
    "name": "ipython",
    "version": 3
   },
   "file_extension": ".py",
   "mimetype": "text/x-python",
   "name": "python",
   "nbconvert_exporter": "python",
   "pygments_lexer": "ipython3",
   "version": "3.8.8"
  }
 },
 "nbformat": 4,
 "nbformat_minor": 5
}
