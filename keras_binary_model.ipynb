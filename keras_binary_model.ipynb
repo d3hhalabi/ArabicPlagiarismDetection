{
 "cells": [
  {
   "cell_type": "code",
   "execution_count": 1,
   "id": "3d812930",
   "metadata": {},
   "outputs": [],
   "source": [
    "import numpy as np\n",
    "import pandas as pd\n",
    "from keras.models import Sequential\n",
    "from keras.layers import Dense\n",
    "from keras.wrappers.scikit_learn import KerasClassifier\n",
    "from sklearn.model_selection import cross_val_score\n",
    "from sklearn.model_selection import KFold\n",
    "from sklearn.preprocessing import MinMaxScaler\n",
    "import matplotlib.pyplot as plt\n",
    "from sklearn.ensemble import RandomForestClassifier\n",
    "\n",
    "import os"
   ]
  },
  {
   "cell_type": "code",
   "execution_count": 15,
   "id": "e54fa071",
   "metadata": {},
   "outputs": [],
   "source": [
    "from sklearn.metrics import accuracy_score\n",
    "from sklearn.metrics import precision_score\n",
    "from sklearn.metrics import recall_score\n",
    "from sklearn.metrics import f1_score\n",
    "from sklearn.metrics import cohen_kappa_score\n",
    "from sklearn.metrics import roc_auc_score\n",
    "from sklearn.metrics import confusion_matrix"
   ]
  },
  {
   "cell_type": "code",
   "execution_count": 2,
   "id": "b8199cc2",
   "metadata": {},
   "outputs": [],
   "source": [
    "# Random seed for reproducibility\n",
    "seed = 10\n",
    "np.random.seed(seed)\n",
    "\n",
    "# Read in csv training dataset\n",
    "dataset_dir = 'data2/'"
   ]
  },
  {
   "cell_type": "code",
   "execution_count": 3,
   "id": "44920451",
   "metadata": {},
   "outputs": [],
   "source": [
    "training_file = 'train_multi_class.csv'\n",
    "training_file = 'train.csv'\n",
    "\n",
    "df_train = pd.read_csv(os.path.join(dataset_dir, training_file), header=None, names=None)"
   ]
  },
  {
   "cell_type": "code",
   "execution_count": 4,
   "id": "84a21f96",
   "metadata": {},
   "outputs": [
    {
     "name": "stdout",
     "output_type": "stream",
     "text": [
      "(1894, 4)\n",
      "(1894,)\n"
     ]
    }
   ],
   "source": [
    "# Divide data into features X and target (Classes) Y\n",
    "train_y = df_train.iloc[:,0]\n",
    "train_x = df_train.iloc[:,1:]\n",
    "print(train_x.shape)\n",
    "print(train_y.shape)"
   ]
  },
  {
   "cell_type": "code",
   "execution_count": 5,
   "id": "7f791e5b",
   "metadata": {},
   "outputs": [],
   "source": [
    "# Read in csv training dataset\n",
    "testing_file = 'test_multi_class.csv'\n",
    "testing_file = 'test.csv'\n",
    "\n",
    "df_test = pd.read_csv(os.path.join(dataset_dir, testing_file), header=None, names=None)"
   ]
  },
  {
   "cell_type": "code",
   "execution_count": 6,
   "id": "0e4d69ce",
   "metadata": {},
   "outputs": [
    {
     "name": "stdout",
     "output_type": "stream",
     "text": [
      "(1896, 4)\n",
      "(1896,)\n"
     ]
    }
   ],
   "source": [
    "# Divide data into features X and target (Classes) Y\n",
    "test_y = df_test.iloc[:,0]\n",
    "test_x = df_test.iloc[:,1:]\n",
    "print(test_x.shape)\n",
    "print(test_y.shape)"
   ]
  },
  {
   "cell_type": "code",
   "execution_count": 23,
   "id": "4c36fa5b",
   "metadata": {},
   "outputs": [],
   "source": [
    "model = Sequential()\n",
    "model.add(Dense(25, activation='relu', input_shape=(4,)))\n",
    "model.add(Dense(20, activation='relu'))\n",
    "model.add(Dense(15, activation='relu'))\n",
    "model.add(Dense(10, activation='relu'))\n",
    "model.add(Dense(5, activation='relu'))\n",
    "model.add(Dense(1, activation='sigmoid'))\n",
    "\n",
    "model = Sequential()\n",
    "model.add(Dense(100, input_dim=4, activation='relu'))\n",
    "model.add(Dense(1, activation='sigmoid'))"
   ]
  },
  {
   "cell_type": "code",
   "execution_count": 24,
   "id": "fac38cee",
   "metadata": {},
   "outputs": [],
   "source": [
    "model.compile(loss='binary_crossentropy',\n",
    "              optimizer='adam',\n",
    "              metrics=['accuracy'])"
   ]
  },
  {
   "cell_type": "code",
   "execution_count": 36,
   "id": "d72009c6",
   "metadata": {},
   "outputs": [
    {
     "data": {
      "text/plain": [
       "<keras.callbacks.History at 0x258b76a3f70>"
      ]
     },
     "execution_count": 36,
     "metadata": {},
     "output_type": "execute_result"
    }
   ],
   "source": [
    "model.fit(train_x, train_y, epochs=300, verbose=0) #batch_size=10, "
   ]
  },
  {
   "cell_type": "code",
   "execution_count": 37,
   "id": "ea143b2e",
   "metadata": {},
   "outputs": [],
   "source": [
    "# pred_y = model.predict(test_x) \n",
    "# pred_classes = np.argmax(pred_y, axis=1)"
   ]
  },
  {
   "cell_type": "code",
   "execution_count": 38,
   "id": "67cf55b0",
   "metadata": {},
   "outputs": [],
   "source": [
    "# pred_classes"
   ]
  },
  {
   "cell_type": "code",
   "execution_count": 39,
   "id": "89b95a89",
   "metadata": {},
   "outputs": [
    {
     "name": "stdout",
     "output_type": "stream",
     "text": [
      "60/60 [==============================] - 0s 2ms/step - loss: 0.5946 - accuracy: 0.9172\n"
     ]
    }
   ],
   "source": [
    "score = model.evaluate(test_x, test_y, verbose=1)"
   ]
  },
  {
   "cell_type": "code",
   "execution_count": 40,
   "id": "826dc94a",
   "metadata": {},
   "outputs": [
    {
     "name": "stdout",
     "output_type": "stream",
     "text": [
      "[0.5946133136749268, 0.9171940684318542]\n"
     ]
    }
   ],
   "source": [
    "print(score)"
   ]
  },
  {
   "cell_type": "code",
   "execution_count": 41,
   "id": "7eca073b",
   "metadata": {},
   "outputs": [],
   "source": [
    "# predict probabilities for test set\n",
    "yhat_probs = model.predict(test_x, verbose=0)"
   ]
  },
  {
   "cell_type": "code",
   "execution_count": 42,
   "id": "c6ea9460",
   "metadata": {},
   "outputs": [],
   "source": [
    "# predict crisp classes for test set\n",
    "yhat_classes = (yhat_probs > 0.5).astype(\"int32\")"
   ]
  },
  {
   "cell_type": "code",
   "execution_count": 43,
   "id": "0609ea72",
   "metadata": {},
   "outputs": [],
   "source": [
    "# reduce to 1d array\n",
    "yhat_probs = yhat_probs[:, 0]\n",
    "yhat_classes = yhat_classes[:, 0]"
   ]
  },
  {
   "cell_type": "code",
   "execution_count": 44,
   "id": "b6c733bc",
   "metadata": {},
   "outputs": [
    {
     "data": {
      "text/plain": [
       "array([1, 1, 1, ..., 0, 0, 0], dtype=int64)"
      ]
     },
     "execution_count": 44,
     "metadata": {},
     "output_type": "execute_result"
    }
   ],
   "source": [
    "test_y.values"
   ]
  },
  {
   "cell_type": "code",
   "execution_count": 45,
   "id": "87e2de8e",
   "metadata": {},
   "outputs": [
    {
     "data": {
      "text/plain": [
       "array([1, 1, 1, ..., 1, 1, 1])"
      ]
     },
     "execution_count": 45,
     "metadata": {},
     "output_type": "execute_result"
    }
   ],
   "source": [
    "yhat_classes"
   ]
  },
  {
   "cell_type": "code",
   "execution_count": 46,
   "id": "0966050f",
   "metadata": {},
   "outputs": [
    {
     "name": "stdout",
     "output_type": "stream",
     "text": [
      "Accuracy: 91.719409\n",
      "Precision: 91.844350\n",
      "Recall: 99.768384\n",
      "F1 score: 95.642520\n"
     ]
    }
   ],
   "source": [
    "# accuracy: (tp + tn) / (p + n)\n",
    "accuracy = accuracy_score(test_y.values, yhat_classes)\n",
    "print('Accuracy: %f' % (accuracy*100))\n",
    "# precision tp / (tp + fp)\n",
    "precision = precision_score(test_y.values, yhat_classes)\n",
    "print('Precision: %f' % (precision*100))\n",
    "# recall: tp / (tp + fn)\n",
    "recall = recall_score(test_y.values, yhat_classes)\n",
    "print('Recall: %f' % (recall*100))\n",
    "# f1: 2 tp / (2 tp + fp + fn)\n",
    "f1 = f1_score(test_y.values, yhat_classes)\n",
    "print('F1 score: %f' % (f1*100))"
   ]
  },
  {
   "cell_type": "code",
   "execution_count": 53,
   "id": "1122cd9a",
   "metadata": {},
   "outputs": [],
   "source": [
    "def calculate_metrics(model, test_x2, test_y2):\n",
    "    # predict probabilities for test set\n",
    "    yhat_probs = model.predict(test_x2, verbose=0)\n",
    "\n",
    "    # predict crisp classes for test set\n",
    "    yhat_classes = (yhat_probs > 0.5).astype(\"int32\")\n",
    "\n",
    "    # reduce to 1d array\n",
    "    yhat_probs = yhat_probs[:, 0]\n",
    "    yhat_classes = yhat_classes[:, 0]\n",
    "\n",
    "    # accuracy: (tp + tn) / (p + n)\n",
    "    accuracy = accuracy_score(test_y2.values, yhat_classes)\n",
    "    print('Accuracy: %f' % (accuracy*100))\n",
    "    # precision tp / (tp + fp)\n",
    "    precision = precision_score(test_y2.values, yhat_classes)\n",
    "    print('Precision: %f' % (precision*100))\n",
    "    # recall: tp / (tp + fn)\n",
    "    recall = recall_score(test_y2.values, yhat_classes)\n",
    "    print('Recall: %f' % (recall*100))\n",
    "    # f1: 2 tp / (2 tp + fp + fn)\n",
    "    f1 = f1_score(test_y2.values, yhat_classes)\n",
    "    print('F1 score: %f' % (f1*100))"
   ]
  },
  {
   "cell_type": "code",
   "execution_count": 60,
   "id": "4226b23d",
   "metadata": {},
   "outputs": [],
   "source": [
    "def build_fit_model(train_x2, train_y2, n=100, num_epochs=300, batch_size2=0):\n",
    "    model = Sequential()\n",
    "    model.add(Dense(n, input_dim=4, activation='relu'))\n",
    "    model.add(Dense(1, activation='sigmoid'))\n",
    "\n",
    "    model.compile(loss='binary_crossentropy',\n",
    "                  optimizer='adam',\n",
    "                  metrics=['accuracy'])\n",
    "\n",
    "    if (batch_size2 == 0):\n",
    "        model.fit(train_x2, train_y2, epochs=num_epochs, verbose=0) #batch_size=10,\n",
    "    else:\n",
    "        model.fit(train_x2, train_y2, epochs=num_epochs, verbose=0, batch_size=batch_size2)\n",
    "    \n",
    "    return model"
   ]
  },
  {
   "cell_type": "code",
   "execution_count": 55,
   "id": "957d870c",
   "metadata": {},
   "outputs": [],
   "source": [
    "model = build_fit_model(train_x, train_y, n=200, num_epochs=300)"
   ]
  },
  {
   "cell_type": "code",
   "execution_count": 56,
   "id": "ae261019",
   "metadata": {},
   "outputs": [
    {
     "name": "stdout",
     "output_type": "stream",
     "text": [
      "Accuracy: 91.772152\n",
      "Precision: 91.893333\n",
      "Recall: 99.768384\n",
      "F1 score: 95.669073\n"
     ]
    }
   ],
   "source": [
    "calculate_metrics(model, test_x, test_y)"
   ]
  },
  {
   "cell_type": "code",
   "execution_count": 57,
   "id": "cfb4fa90",
   "metadata": {},
   "outputs": [],
   "source": [
    "model = build_fit_model(train_x, train_y, n=200, num_epochs=500)"
   ]
  },
  {
   "cell_type": "code",
   "execution_count": 58,
   "id": "08527cee",
   "metadata": {},
   "outputs": [
    {
     "name": "stdout",
     "output_type": "stream",
     "text": [
      "Accuracy: 91.983122\n",
      "Precision: 92.134831\n",
      "Recall: 99.710481\n",
      "F1 score: 95.773081\n"
     ]
    }
   ],
   "source": [
    "calculate_metrics(model, test_x, test_y)"
   ]
  },
  {
   "cell_type": "code",
   "execution_count": 78,
   "id": "b40306f6",
   "metadata": {},
   "outputs": [
    {
     "name": "stdout",
     "output_type": "stream",
     "text": [
      "Accuracy: 91.930380\n",
      "Precision: 91.995731\n",
      "Recall: 99.826288\n",
      "F1 score: 95.751180\n"
     ]
    }
   ],
   "source": [
    "model = build_fit_model(train_x, train_y, n=200, num_epochs=2500, batch_size2=0)\n",
    "calculate_metrics(model, test_x, test_y)"
   ]
  },
  {
   "cell_type": "code",
   "execution_count": 80,
   "id": "0e7a710b",
   "metadata": {},
   "outputs": [
    {
     "name": "stdout",
     "output_type": "stream",
     "text": [
      "Accuracy: 92.035865\n",
      "Precision: 92.274678\n",
      "Recall: 99.594673\n",
      "F1 score: 95.795043\n"
     ]
    }
   ],
   "source": [
    "model = build_fit_model(train_x, train_y, n=300, num_epochs=500, batch_size2=0)\n",
    "calculate_metrics(model, test_x, test_y)"
   ]
  },
  {
   "cell_type": "code",
   "execution_count": 83,
   "id": "c0b5d193",
   "metadata": {},
   "outputs": [
    {
     "name": "stdout",
     "output_type": "stream",
     "text": [
      "Accuracy: 91.455696\n",
      "Precision: 91.644492\n",
      "Recall: 99.710481\n",
      "F1 score: 95.507488\n"
     ]
    }
   ],
   "source": [
    "model = build_fit_model(train_x, train_y, n=300, num_epochs=2000, batch_size2=0)\n",
    "calculate_metrics(model, test_x, test_y)"
   ]
  },
  {
   "cell_type": "code",
   "execution_count": 85,
   "id": "2bf1ad2d",
   "metadata": {},
   "outputs": [],
   "source": [
    "# predict probabilities for test set\n",
    "yhat_probs = model.predict(test_x, verbose=0)\n",
    "\n",
    "# predict crisp classes for test set\n",
    "yhat_classes = (yhat_probs > 0.5).astype(\"int32\")\n",
    "\n",
    "# reduce to 1d array\n",
    "yhat_probs = yhat_probs[:, 0]\n",
    "yhat_classes = yhat_classes[:, 0]"
   ]
  },
  {
   "cell_type": "code",
   "execution_count": 86,
   "id": "6a81dacc",
   "metadata": {},
   "outputs": [],
   "source": [
    "target_names = ['no-plagiarism', 'plagiarism']"
   ]
  },
  {
   "cell_type": "code",
   "execution_count": 88,
   "id": "57b956a1",
   "metadata": {},
   "outputs": [
    {
     "name": "stdout",
     "output_type": "stream",
     "text": [
      "               precision    recall  f1-score   support\n",
      "\n",
      "no-plagiarism       0.71      0.07      0.13       169\n",
      "   plagiarism       0.92      1.00      0.96      1727\n",
      "\n",
      "     accuracy                           0.91      1896\n",
      "    macro avg       0.81      0.53      0.54      1896\n",
      " weighted avg       0.90      0.91      0.88      1896\n",
      "\n"
     ]
    }
   ],
   "source": [
    "from sklearn.metrics import classification_report\n",
    "print(classification_report(test_y, yhat_classes, target_names=target_names))"
   ]
  },
  {
   "cell_type": "code",
   "execution_count": 92,
   "id": "3fd3fa08",
   "metadata": {},
   "outputs": [
    {
     "name": "stdout",
     "output_type": "stream",
     "text": [
      "Accuracy: 91.666667\n",
      "Precision: 91.795418\n",
      "Recall: 99.768384\n",
      "F1 score: 95.615982\n"
     ]
    }
   ],
   "source": [
    "model = build_fit_model(train_x, train_y, n=300, num_epochs=500, batch_size2=50)\n",
    "calculate_metrics(model, test_x, test_y)"
   ]
  },
  {
   "cell_type": "code",
   "execution_count": 93,
   "id": "866dd212",
   "metadata": {},
   "outputs": [
    {
     "name": "stdout",
     "output_type": "stream",
     "text": [
      "               precision    recall  f1-score   support\n",
      "\n",
      "no-plagiarism       0.79      0.09      0.16       169\n",
      "   plagiarism       0.92      1.00      0.96      1727\n",
      "\n",
      "     accuracy                           0.92      1896\n",
      "    macro avg       0.85      0.54      0.56      1896\n",
      " weighted avg       0.91      0.92      0.89      1896\n",
      "\n"
     ]
    }
   ],
   "source": [
    "# predict probabilities for test set\n",
    "yhat_probs = model.predict(test_x, verbose=0)\n",
    "\n",
    "# predict crisp classes for test set\n",
    "yhat_classes = (yhat_probs > 0.5).astype(\"int32\")\n",
    "\n",
    "# reduce to 1d array\n",
    "yhat_probs = yhat_probs[:, 0]\n",
    "yhat_classes = yhat_classes[:, 0]\n",
    "\n",
    "print(classification_report(test_y, yhat_classes, target_names=target_names))"
   ]
  },
  {
   "cell_type": "code",
   "execution_count": 94,
   "id": "26e0433f",
   "metadata": {},
   "outputs": [
    {
     "name": "stdout",
     "output_type": "stream",
     "text": [
      "Accuracy: 91.877637\n",
      "Precision: 92.036344\n",
      "Recall: 99.710481\n",
      "F1 score: 95.719844\n",
      "\n",
      "               precision    recall  f1-score   support\n",
      "\n",
      "no-plagiarism       0.80      0.12      0.21       169\n",
      "   plagiarism       0.92      1.00      0.96      1727\n",
      "\n",
      "     accuracy                           0.92      1896\n",
      "    macro avg       0.86      0.56      0.58      1896\n",
      " weighted avg       0.91      0.92      0.89      1896\n",
      "\n"
     ]
    }
   ],
   "source": [
    "model = build_fit_model(train_x, train_y, n=300, num_epochs=1000, batch_size2=100)\n",
    "calculate_metrics(model, test_x, test_y)\n",
    "print()\n",
    "\n",
    "# predict probabilities for test set\n",
    "yhat_probs = model.predict(test_x, verbose=0)\n",
    "\n",
    "# predict crisp classes for test set\n",
    "yhat_classes = (yhat_probs > 0.5).astype(\"int32\")\n",
    "\n",
    "# reduce to 1d array\n",
    "yhat_probs = yhat_probs[:, 0]\n",
    "yhat_classes = yhat_classes[:, 0]\n",
    "\n",
    "print(classification_report(test_y, yhat_classes, target_names=target_names))"
   ]
  },
  {
   "cell_type": "code",
   "execution_count": 96,
   "id": "6750542a",
   "metadata": {},
   "outputs": [
    {
     "name": "stdout",
     "output_type": "stream",
     "text": [
      "Accuracy: 91.877637\n",
      "Precision: 92.036344\n",
      "Recall: 99.710481\n",
      "F1 score: 95.719844\n",
      "\n",
      "               precision    recall  f1-score   support\n",
      "\n",
      "no-plagiarism       0.80      0.12      0.21       169\n",
      "   plagiarism       0.92      1.00      0.96      1727\n",
      "\n",
      "     accuracy                           0.92      1896\n",
      "    macro avg       0.86      0.56      0.58      1896\n",
      " weighted avg       0.91      0.92      0.89      1896\n",
      "\n"
     ]
    }
   ],
   "source": [
    "calculate_metrics(model, test_x, test_y)\n",
    "print()\n",
    "\n",
    "# predict probabilities for test set\n",
    "yhat_probs = model.predict(test_x, verbose=0)\n",
    "\n",
    "# predict crisp classes for test set\n",
    "yhat_classes = (yhat_probs > 0.5).astype(\"int32\")\n",
    "\n",
    "# reduce to 1d array\n",
    "yhat_probs = yhat_probs[:, 0]\n",
    "yhat_classes = yhat_classes[:, 0]\n",
    "\n",
    "print(classification_report(test_y, yhat_classes, target_names=target_names))"
   ]
  },
  {
   "cell_type": "code",
   "execution_count": 107,
   "id": "355d5ca2",
   "metadata": {},
   "outputs": [
    {
     "data": {
      "text/plain": [
       "pandas.core.series.Series"
      ]
     },
     "execution_count": 107,
     "metadata": {},
     "output_type": "execute_result"
    }
   ],
   "source": [
    "type(test_y)"
   ]
  },
  {
   "cell_type": "code",
   "execution_count": 104,
   "id": "ec2e28ed",
   "metadata": {},
   "outputs": [],
   "source": [
    "df_1 = pd.DataFrame(yhat_classes)"
   ]
  },
  {
   "cell_type": "code",
   "execution_count": 110,
   "id": "6c65add4",
   "metadata": {},
   "outputs": [],
   "source": [
    "df_final = test_x.copy()"
   ]
  },
  {
   "cell_type": "code",
   "execution_count": 112,
   "id": "5b96335c",
   "metadata": {},
   "outputs": [],
   "source": [
    "df_final['y_actual'] = test_y"
   ]
  },
  {
   "cell_type": "code",
   "execution_count": 113,
   "id": "b6ad66df",
   "metadata": {},
   "outputs": [],
   "source": [
    "df_final['y_predicted'] = pd.Series(yhat_classes)"
   ]
  },
  {
   "cell_type": "code",
   "execution_count": 114,
   "id": "97bf1f2a",
   "metadata": {},
   "outputs": [
    {
     "data": {
      "text/html": [
       "<div>\n",
       "<style scoped>\n",
       "    .dataframe tbody tr th:only-of-type {\n",
       "        vertical-align: middle;\n",
       "    }\n",
       "\n",
       "    .dataframe tbody tr th {\n",
       "        vertical-align: top;\n",
       "    }\n",
       "\n",
       "    .dataframe thead th {\n",
       "        text-align: right;\n",
       "    }\n",
       "</style>\n",
       "<table border=\"1\" class=\"dataframe\">\n",
       "  <thead>\n",
       "    <tr style=\"text-align: right;\">\n",
       "      <th></th>\n",
       "      <th>1</th>\n",
       "      <th>2</th>\n",
       "      <th>3</th>\n",
       "      <th>4</th>\n",
       "      <th>y_actual</th>\n",
       "      <th>y_predicted</th>\n",
       "    </tr>\n",
       "  </thead>\n",
       "  <tbody>\n",
       "    <tr>\n",
       "      <th>0</th>\n",
       "      <td>0.535620</td>\n",
       "      <td>0.119048</td>\n",
       "      <td>0.096515</td>\n",
       "      <td>0.229551</td>\n",
       "      <td>1</td>\n",
       "      <td>1</td>\n",
       "    </tr>\n",
       "    <tr>\n",
       "      <th>1</th>\n",
       "      <td>0.273102</td>\n",
       "      <td>0.022426</td>\n",
       "      <td>0.001835</td>\n",
       "      <td>0.054437</td>\n",
       "      <td>1</td>\n",
       "      <td>1</td>\n",
       "    </tr>\n",
       "  </tbody>\n",
       "</table>\n",
       "</div>"
      ],
      "text/plain": [
       "          1         2         3         4  y_actual  y_predicted\n",
       "0  0.535620  0.119048  0.096515  0.229551         1            1\n",
       "1  0.273102  0.022426  0.001835  0.054437         1            1"
      ]
     },
     "execution_count": 114,
     "metadata": {},
     "output_type": "execute_result"
    }
   ],
   "source": [
    "df_final.head(2)"
   ]
  },
  {
   "cell_type": "code",
   "execution_count": 117,
   "id": "098caeba",
   "metadata": {},
   "outputs": [],
   "source": [
    "df_final.to_csv('data2/predicted_values.csv', header=False, index=False)"
   ]
  },
  {
   "cell_type": "code",
   "execution_count": 115,
   "id": "87b8a6d5",
   "metadata": {},
   "outputs": [],
   "source": [
    "df_test_2 = pd.read_csv(os.path.join(dataset_dir, testing_file), header=None, names=None)"
   ]
  },
  {
   "cell_type": "code",
   "execution_count": 95,
   "id": "9975faf3",
   "metadata": {},
   "outputs": [
    {
     "name": "stdout",
     "output_type": "stream",
     "text": [
      "Train dataset\n",
      "\n",
      "Accuracy: 99.841605\n",
      "Precision: 99.941995\n",
      "Recall: 99.884058\n",
      "F1 score: 99.913018\n",
      "\n",
      "               precision    recall  f1-score   support\n",
      "\n",
      "no-plagiarism       0.99      0.99      0.99       169\n",
      "   plagiarism       1.00      1.00      1.00      1725\n",
      "\n",
      "     accuracy                           1.00      1894\n",
      "    macro avg       0.99      1.00      1.00      1894\n",
      " weighted avg       1.00      1.00      1.00      1894\n",
      "\n"
     ]
    }
   ],
   "source": [
    "print('Train dataset\\n')\n",
    "calculate_metrics(model, train_x, train_y)\n",
    "print()\n",
    "\n",
    "# predict probabilities for train set\n",
    "yhat_probs = model.predict(train_x, verbose=0)\n",
    "\n",
    "# predict crisp classes for train set\n",
    "yhat_classes = (yhat_probs > 0.5).astype(\"int32\")\n",
    "\n",
    "# reduce to 1d array\n",
    "yhat_probs = yhat_probs[:, 0]\n",
    "yhat_classes = yhat_classes[:, 0]\n",
    "\n",
    "print(classification_report(train_y, yhat_classes, target_names=target_names))"
   ]
  },
  {
   "cell_type": "code",
   "execution_count": null,
   "id": "e995360f",
   "metadata": {},
   "outputs": [],
   "source": []
  }
 ],
 "metadata": {
  "kernelspec": {
   "display_name": "Python 3",
   "language": "python",
   "name": "python3"
  },
  "language_info": {
   "codemirror_mode": {
    "name": "ipython",
    "version": 3
   },
   "file_extension": ".py",
   "mimetype": "text/x-python",
   "name": "python",
   "nbconvert_exporter": "python",
   "pygments_lexer": "ipython3",
   "version": "3.8.8"
  }
 },
 "nbformat": 4,
 "nbformat_minor": 5
}
