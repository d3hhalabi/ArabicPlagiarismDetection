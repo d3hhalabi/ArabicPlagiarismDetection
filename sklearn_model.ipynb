{
 "cells": [
  {
   "cell_type": "code",
   "execution_count": null,
   "id": "cf63d58a",
   "metadata": {},
   "outputs": [],
   "source": [
    "#!pip install joblib"
   ]
  },
  {
   "cell_type": "code",
   "execution_count": 1,
   "id": "67b4a770",
   "metadata": {},
   "outputs": [],
   "source": [
    "import os\n",
    "import pandas as pd\n",
    "import numpy as np\n",
    "\n",
    "import matplotlib.pyplot as plt\n",
    "\n",
    "from sklearn.svm import SVC\n",
    "\n",
    "import joblib\n",
    "\n",
    "from sklearn.metrics import classification_report"
   ]
  },
  {
   "cell_type": "code",
   "execution_count": 2,
   "id": "3321c09e",
   "metadata": {},
   "outputs": [],
   "source": [
    "# Read in csv training dataset\n",
    "training_dir = 'data2/'\n",
    "training_file = 'train_multi_class.csv'\n",
    "training_file = 'train.csv'\n",
    "\n",
    "df_train = pd.read_csv(os.path.join(training_dir, training_file), header=None, names=None)"
   ]
  },
  {
   "cell_type": "code",
   "execution_count": 3,
   "id": "a354954a",
   "metadata": {},
   "outputs": [
    {
     "data": {
      "text/plain": [
       "(1894, 5)"
      ]
     },
     "execution_count": 3,
     "metadata": {},
     "output_type": "execute_result"
    }
   ],
   "source": [
    "df_train.shape"
   ]
  },
  {
   "cell_type": "code",
   "execution_count": 4,
   "id": "ac950a1c",
   "metadata": {},
   "outputs": [],
   "source": [
    "# Labels are in the first column\n",
    "train_y = df_train.iloc[:,0]\n",
    "train_x = df_train.iloc[:,1:]"
   ]
  },
  {
   "cell_type": "code",
   "execution_count": 5,
   "id": "a5296ba3",
   "metadata": {},
   "outputs": [],
   "source": [
    "C = 1.0 # SVM regularization parameter\n",
    "svc = SVC(kernel='linear', C=1, gamma='auto').fit(train_x, train_y)"
   ]
  },
  {
   "cell_type": "code",
   "execution_count": 6,
   "id": "fc8a0a3b",
   "metadata": {},
   "outputs": [],
   "source": [
    "# Read in csv testing dataset\n",
    "testing_dir = 'data2/'\n",
    "testing_file = 'test_multi_class.csv'\n",
    "testing_file = 'test.csv'\n",
    "\n",
    "df_test = pd.read_csv(os.path.join(testing_dir, testing_file), header=None, names=None)\n",
    "\n",
    "# Labels are in the first column\n",
    "test_y = df_test.iloc[:,0]\n",
    "test_x = df_test.iloc[:,1:]"
   ]
  },
  {
   "cell_type": "code",
   "execution_count": 7,
   "id": "fbd5904b",
   "metadata": {},
   "outputs": [
    {
     "data": {
      "text/plain": [
       "(1896, 5)"
      ]
     },
     "execution_count": 7,
     "metadata": {},
     "output_type": "execute_result"
    }
   ],
   "source": [
    "df_test.shape"
   ]
  },
  {
   "cell_type": "code",
   "execution_count": 8,
   "id": "6bac4e39",
   "metadata": {},
   "outputs": [],
   "source": [
    "predited_y = svc.predict(test_x)"
   ]
  },
  {
   "cell_type": "code",
   "execution_count": 9,
   "id": "cc71e168",
   "metadata": {},
   "outputs": [],
   "source": [
    "target_names = ['no-plagiarism', 'artificial-obfuscation', 'no-obfuscation', 'simulated-obfuscation']\n",
    "target_names = ['no-plagiarism', 'plagiarism']"
   ]
  },
  {
   "cell_type": "code",
   "execution_count": 10,
   "id": "dd6feb34",
   "metadata": {},
   "outputs": [
    {
     "name": "stdout",
     "output_type": "stream",
     "text": [
      "               precision    recall  f1-score   support\n",
      "\n",
      "no-plagiarism       0.00      0.00      0.00       169\n",
      "   plagiarism       0.91      1.00      0.95      1727\n",
      "\n",
      "     accuracy                           0.91      1896\n",
      "    macro avg       0.46      0.50      0.48      1896\n",
      " weighted avg       0.83      0.91      0.87      1896\n",
      "\n"
     ]
    },
    {
     "name": "stderr",
     "output_type": "stream",
     "text": [
      "d:\\anaconda3\\lib\\site-packages\\sklearn\\metrics\\_classification.py:1245: UndefinedMetricWarning: Precision and F-score are ill-defined and being set to 0.0 in labels with no predicted samples. Use `zero_division` parameter to control this behavior.\n",
      "  _warn_prf(average, modifier, msg_start, len(result))\n",
      "d:\\anaconda3\\lib\\site-packages\\sklearn\\metrics\\_classification.py:1245: UndefinedMetricWarning: Precision and F-score are ill-defined and being set to 0.0 in labels with no predicted samples. Use `zero_division` parameter to control this behavior.\n",
      "  _warn_prf(average, modifier, msg_start, len(result))\n",
      "d:\\anaconda3\\lib\\site-packages\\sklearn\\metrics\\_classification.py:1245: UndefinedMetricWarning: Precision and F-score are ill-defined and being set to 0.0 in labels with no predicted samples. Use `zero_division` parameter to control this behavior.\n",
      "  _warn_prf(average, modifier, msg_start, len(result))\n"
     ]
    }
   ],
   "source": [
    "print(classification_report(test_y, predited_y, target_names=target_names))"
   ]
  },
  {
   "cell_type": "code",
   "execution_count": 11,
   "id": "6ce479d5",
   "metadata": {},
   "outputs": [
    {
     "name": "stdout",
     "output_type": "stream",
     "text": [
      "               precision    recall  f1-score   support\n",
      "\n",
      "no-plagiarism       0.00      0.00      0.00       169\n",
      "   plagiarism       0.91      1.00      0.95      1727\n",
      "\n",
      "     accuracy                           0.91      1896\n",
      "    macro avg       0.46      0.50      0.48      1896\n",
      " weighted avg       0.83      0.91      0.87      1896\n",
      "\n"
     ]
    },
    {
     "name": "stderr",
     "output_type": "stream",
     "text": [
      "d:\\anaconda3\\lib\\site-packages\\sklearn\\metrics\\_classification.py:1245: UndefinedMetricWarning: Precision and F-score are ill-defined and being set to 0.0 in labels with no predicted samples. Use `zero_division` parameter to control this behavior.\n",
      "  _warn_prf(average, modifier, msg_start, len(result))\n",
      "d:\\anaconda3\\lib\\site-packages\\sklearn\\metrics\\_classification.py:1245: UndefinedMetricWarning: Precision and F-score are ill-defined and being set to 0.0 in labels with no predicted samples. Use `zero_division` parameter to control this behavior.\n",
      "  _warn_prf(average, modifier, msg_start, len(result))\n",
      "d:\\anaconda3\\lib\\site-packages\\sklearn\\metrics\\_classification.py:1245: UndefinedMetricWarning: Precision and F-score are ill-defined and being set to 0.0 in labels with no predicted samples. Use `zero_division` parameter to control this behavior.\n",
      "  _warn_prf(average, modifier, msg_start, len(result))\n"
     ]
    }
   ],
   "source": [
    "print(classification_report(test_y, predited_y, target_names=target_names))"
   ]
  },
  {
   "cell_type": "code",
   "execution_count": 13,
   "id": "38851365",
   "metadata": {},
   "outputs": [
    {
     "data": {
      "text/plain": [
       "(1896,)"
      ]
     },
     "execution_count": 13,
     "metadata": {},
     "output_type": "execute_result"
    }
   ],
   "source": [
    "predited_y.shape"
   ]
  },
  {
   "cell_type": "code",
   "execution_count": 14,
   "id": "e75408ee",
   "metadata": {},
   "outputs": [],
   "source": [
    "from sklearn.metrics import accuracy_score\n",
    "from sklearn.metrics import precision_score\n",
    "from sklearn.metrics import recall_score\n",
    "from sklearn.metrics import f1_score\n",
    "from sklearn.metrics import cohen_kappa_score\n",
    "from sklearn.metrics import roc_auc_score\n",
    "from sklearn.metrics import confusion_matrix"
   ]
  },
  {
   "cell_type": "code",
   "execution_count": 15,
   "id": "e9b47647",
   "metadata": {},
   "outputs": [
    {
     "name": "stdout",
     "output_type": "stream",
     "text": [
      "Accuracy: 91.086498\n"
     ]
    }
   ],
   "source": [
    "# accuracy: (tp + tn) / (p + n)\n",
    "accuracy = accuracy_score(test_y, predited_y)\n",
    "print('Accuracy: %f' % (accuracy*100))"
   ]
  },
  {
   "cell_type": "code",
   "execution_count": 18,
   "id": "085e2b09",
   "metadata": {},
   "outputs": [
    {
     "name": "stdout",
     "output_type": "stream",
     "text": [
      "Accuracy: 91.086498\n",
      "Precision: 91.086498\n",
      "Recall: 100.000000\n",
      "F1 score: 95.335357\n"
     ]
    }
   ],
   "source": [
    "# accuracy: (tp + tn) / (p + n)\n",
    "accuracy = accuracy_score(test_y, predited_y)\n",
    "print('Accuracy: %f' % (accuracy*100))\n",
    "# precision tp / (tp + fp)\n",
    "precision = precision_score(test_y, predited_y)\n",
    "print('Precision: %f' % (precision*100))\n",
    "# recall: tp / (tp + fn)\n",
    "recall = recall_score(test_y, predited_y)\n",
    "print('Recall: %f' % (recall*100))\n",
    "# f1: 2 tp / (2 tp + fp + fn)\n",
    "f1 = f1_score(test_y, predited_y)\n",
    "print('F1 score: %f' % (f1*100))"
   ]
  },
  {
   "cell_type": "code",
   "execution_count": null,
   "id": "fd68b883",
   "metadata": {},
   "outputs": [],
   "source": []
  }
 ],
 "metadata": {
  "kernelspec": {
   "display_name": "Python 3",
   "language": "python",
   "name": "python3"
  },
  "language_info": {
   "codemirror_mode": {
    "name": "ipython",
    "version": 3
   },
   "file_extension": ".py",
   "mimetype": "text/x-python",
   "name": "python",
   "nbconvert_exporter": "python",
   "pygments_lexer": "ipython3",
   "version": "3.8.8"
  }
 },
 "nbformat": 4,
 "nbformat_minor": 5
}
